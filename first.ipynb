{
 "cells": [
  {
   "cell_type": "code",
   "execution_count": 43,
   "metadata": {},
   "outputs": [],
   "source": [
    "from selenium import webdriver\n",
    "from selenium.webdriver.chrome.options import Options\n",
    "from selenium.webdriver.common.action_chains import ActionChains\n",
    "from selenium.webdriver.support import expected_conditions as EC\n",
    "from selenium.webdriver.common.by import By\n",
    "from selenium.webdriver.support.ui import WebDriverWait\n",
    "from selenium.webdriver.common.keys import Keys\n",
    "from selenium.webdriver.remote.webelement import WebElement\n",
    "from openpyxl import Workbook\n",
    "from openpyxl import load_workbook\n",
    "from os.path import expanduser\n",
    "from os import path\n",
    "import os\n",
    "import csv\n",
    "import urllib.request\n",
    "import xlsxwriter\n",
    "import xlrd\n",
    "import string\n",
    "from openpyxl import load_workbook\n",
    "from csv import writer \n",
    "import logging\n",
    "import threading\n",
    "import time"
   ]
  },
  {
   "cell_type": "code",
   "execution_count": 49,
   "metadata": {},
   "outputs": [],
   "source": [
    "driver = webdriver.Chrome()\n",
    "url = \"https://www.division9.ca/en-ca/product/andesite-12x24-2\"\n",
    "driver.get(url)"
   ]
  },
  {
   "cell_type": "code",
   "execution_count": 50,
   "metadata": {},
   "outputs": [],
   "source": [
    "products = driver.find_element_by_id('table-shapes-sizes')\n",
    "items = products.find_elements_by_tag_name('a')\n",
    "product_url_list = []\n",
    "for item in items:\n",
    "#     item_a_obj = item.find_element_by_class_name('woocommerce-LoopProduct-link')\n",
    "    product_url_list.append(item.get_attribute('href'))"
   ]
  },
  {
   "cell_type": "code",
   "execution_count": 51,
   "metadata": {},
   "outputs": [
    {
     "name": "stdout",
     "output_type": "stream",
     "text": [
      "['https://www.division9.ca/en-ca/product/aldridge-7x48-2', 'https://www.division9.ca/en-ca/product/andesite-12x24-2', 'https://www.division9.ca/en-ca/product/dunchurch-12x24-2', 'https://www.division9.ca/en-ca/product/evia-7x48-2', 'https://www.division9.ca/en-ca/product/georgian-granite-12x24-2', 'https://www.division9.ca/en-ca/product/granville-12x24-2', 'https://www.division9.ca/en-ca/product/marmara-12x24-2', 'https://www.division9.ca/en-ca/product/massa-carrara-2', 'https://www.division9.ca/en-ca/product/silver-screen-12x24-2', 'https://www.division9.ca/en-ca/product/timeless-12x24-2']\n"
     ]
    }
   ],
   "source": [
    "print(product_url_list)"
   ]
  },
  {
   "cell_type": "code",
   "execution_count": 52,
   "metadata": {},
   "outputs": [],
   "source": [
    "driver.get(product_url_list[5])"
   ]
  },
  {
   "cell_type": "code",
   "execution_count": 53,
   "metadata": {},
   "outputs": [
    {
     "name": "stdout",
     "output_type": "stream",
     "text": [
      "GRANVILLE 12”X24”\n"
     ]
    }
   ],
   "source": [
    "# time.sleep(5) \n",
    "# product = driver.find_element_by_class_name('product')\n",
    "# name1 = products.find_elements_by_xpath('h1').text\n",
    "name = driver.find_element_by_xpath('/html/body/main/div/div/div/div[2]/div[1]/div[2]/h1').text\n",
    "print(name)"
   ]
  },
  {
   "cell_type": "code",
   "execution_count": 71,
   "metadata": {},
   "outputs": [
    {
     "name": "stdout",
     "output_type": "stream",
     "text": [
      "Category Description\n",
      "Shade Medium\n",
      "Commercial Warranty 15 Years\n",
      "Performance Class Best\n",
      "Colour Brown\n",
      "Usage Floor\n",
      "Size 12x24\n",
      "Format Luxury Vinyl Tile\n",
      "Installation Method Click, Float, Rigid Composite Click\n",
      "Certifications Greenguard Gold\n",
      "Space Basement, Bedroom, Kitchen, Laundry Room, Living Room, Bathroom, Indoor\n",
      "STC Rating 69\n",
      "IIC Rating 69\n",
      "Collection FIRMFIT® Premium Tiles\n",
      "Construction SPC\n"
     ]
    }
   ],
   "source": [
    "name = driver.find_element_by_xpath('/html/body/main/div/div/div/div[2]/div[1]/div[2]/h1').text\n",
    "sku = driver.find_element_by_xpath('/html/body/main/div/div/div/div[2]/div[1]/div[2]/strong').text\n",
    "manufacturer = driver.find_element_by_xpath('/html/body/main/div/div/div/div[2]/div[1]/div[2]/div[1]/a').text\n",
    "description = driver.find_element_by_xpath('/html/body/main/div/div/div/div[2]/div[1]/div[2]/div[2]').text\n",
    "size1 = driver.find_element_by_xpath('/html/body/main/div/div/div/div[2]/div[2]/div/table[1]/tbody/tr[3]/td[2]').text\n",
    "size2 = driver.find_element_by_xpath('/html/body/main/div/div/div/div[2]/div[2]/div/table[1]/tbody/tr[4]/td[2]').text\n",
    "quantity1 = driver.find_element_by_xpath('/html/body/main/div/div/div/div[2]/div[2]/div/table[1]/tbody/tr[5]/td[2]').text\n",
    "quantity2 = driver.find_element_by_xpath('/html/body/main/div/div/div/div[2]/div[2]/div/table[1]/tbody/tr[6]/td[2]').text\n",
    "bevel = driver.find_element_by_xpath('/html/body/main/div/div/div/div[2]/div[2]/div/table[1]/tbody/tr[7]/td[2]').text\n",
    "finish = driver.find_element_by_xpath('/html/body/main/div/div/div/div[2]/div[2]/div/table[1]/tbody/tr[8]/td[2]').text\n",
    "warranty = driver.find_element_by_xpath('/html/body/main/div/div/div/div[2]/div[2]/div/table[1]/tbody/tr[9]/td[2]').text\n",
    "installation = driver.find_element_by_xpath('/html/body/main/div/div/div/div[2]/div[2]/div/table[1]/tbody/tr[10]/td[2]').text\n",
    "Indoor_Air_Quality = driver.find_element_by_xpath('/html/body/main/div/div/div/div[2]/div[2]/div/table[1]/tbody/tr[11]/td[2]').text\n",
    "Radiant_Heat = driver.find_element_by_xpath('/html/body/main/div/div/div/div[2]/div[2]/div/table[1]/tbody/tr[12]/td[2]').text\n",
    "\n",
    "\n",
    "Shade = driver.find_element_by_xpath('/html/body/main/div/div/div/div[2]/div[2]/div/table[2]/tbody/tr[1]/td[2]/a').text\n",
    "Performance_Class = driver.find_element_by_xpath('/html/body/main/div/div/div/div[2]/div[2]/div/table[2]/tbody/tr[3]/td[2]/a').text\n",
    "# colour = driver.find_element_by_xpath('/html/body/main/div/div/div/div[2]/div[2]/div/table[2]/tbody/tr[4]/td[2]/a').text\n",
    "# usage = driver.find_element_by_xpath('/html/body/main/div/div/div/div[2]/div[2]/div/table[2]/tbody/tr[5]/td[2]/a').text\n",
    "# size = driver.find_element_by_xpath('/html/body/main/div/div/div/div[2]/div[2]/div/table[2]/tbody/tr[6]/td[2]/a').text\n",
    "# Format = driver.find_element_by_xpath('/html/body/main/div/div/div/div[2]/div[2]/div/table[2]/tbody/tr[7]/td[2]/a').text\n",
    "# installation_method = driver.find_element_by_xpath('/html/body/main/div/div/div/div[2]/div[2]/div/table[2]/tbody/tr[8]/td[2]').text\n",
    "# space = driver.find_element_by_xpath('/html/body/main/div/div/div/div[2]/div[2]/div/table[2]/tbody/tr[10]/td[2]').text\n",
    "# construction = driver.find_element_by_xpath('/html/body/main/div/div/div/div[2]/div[2]/div/table[2]/tbody/tr[14]/td[2]/a').text\n",
    "\n",
    "image = driver.find_element_by_xpath('/html/body/main/div/div/div/div[2]/div[1]/div[1]/div[1]/a/img').get_attribute('src')\n",
    "\n",
    "table_text = driver.find_element_by_xpath('/html/body/main/div/div/div/div[2]/div[2]/div/table[2]').text\n",
    "colour=usage=size=Format=installation_method=space=construction=\"\"\n",
    "table_trs = table_text.splitlines()\n",
    "print(table_text)\n",
    "for tr in table_trs:\n",
    "    \n",
    "    temp1=tr.find(\"Colour\")\n",
    "    if temp1!=-1:\n",
    "        colour = tr.rsplit(\"Colour \")[1]\n",
    "    \n",
    "    temp2=tr.find(\"Usage\")\n",
    "    if temp2!=-1:\n",
    "        usage = tr.rsplit(\"Usage \")[1]\n",
    "        \n",
    "    temp3=tr.find(\"Size\")\n",
    "    if temp3!=-1:\n",
    "        size = tr.rsplit(\"Size \")[1]\n",
    "        \n",
    "    temp4=tr.find(\"Format\")\n",
    "    if temp4!=-1:\n",
    "        Format = tr.rsplit(\"Format \")[1]\n",
    "        \n",
    "    temp5=tr.find(\"Installation Method\")\n",
    "    if temp5!=-1:\n",
    "        installation_method = tr.rsplit(\"Installation Method \")[1]\n",
    "        \n",
    "    temp6=tr.find(\"Space\")\n",
    "    if temp6!=-1:\n",
    "        space = tr.rsplit(\"Space \")[1]\n",
    "    \n",
    "    temp7=tr.find(\"Construction\")\n",
    "    if temp7!=-1:\n",
    "        construction = tr.rsplit(\"Construction \")[1]\n",
    "# print(colour)\n"
   ]
  },
  {
   "cell_type": "code",
   "execution_count": 72,
   "metadata": {},
   "outputs": [
    {
     "name": "stdout",
     "output_type": "stream",
     "text": [
      "['GRANVILLE 12”X24”', 'RVI1672FIRMFITTI', 'FIRMFIT® Premium Tiles', 'FIRMFIT® Premium Tiles are an innovative waterproof floating floor. The dense and rigid (SPC) core will not telegraph subfloor irregularities, is more temperature stable and more impact resistant than floating LVT and WPC. FIRMFIT® Tiles can be installed in large areas (up to 4000 sft) without transitions. The vinyl surface layer is coated with a high quality urethane finish. The visuals are high quality, realistic with natural embossing an a full wide bevel. The bevels are colour coated to replicate the look of grouted tiles. Drop-lock installation system for easy installation. FIRMFIT® Tiles have an attached cork underlayment providing added sound insulation. The tiles can be installed over most existing subfloors.', '0.2” x 6.93” x 47.76” (5mm x 176mm x 1213mm)', '0.2” x 11.81” x 23.62” (5mm x 300mm x 600mm)', '25.27 SF/CT, 55 CT/PA', '25.19 SF/CT, 54 CT/PA', 'Four sided colour matched bevel', 'Non-fading extremely tough 0.55 mm wear layer with a UV topcoat and SE+ Anti-Bacterial coating', 'Lifetime Residential & 15 Year Commercial', 'Click Floating', 'Greenguard Gold', 'Can be installed over water based radiant heat. See installation instructions.', 'Medium', 'Best', 'Brown', 'Floor', '12x24', 'Luxury Vinyl Tile', 'Click, Float, Rigid Composite Click', 'Basement, Bedroom, Kitchen, Laundry Room, Living Room, Bathroom, Indoor', 'SPC', 'https://www.shnierflooring.ca/catalog/items/600x600/RVI1672FIRMFITTI.jpg']\n"
     ]
    }
   ],
   "source": [
    "List = [name, sku, manufacturer, description, size1, size2, quantity1, quantity2, bevel, finish, warranty, installation, Indoor_Air_Quality, Radiant_Heat, Shade, Performance_Class, colour, usage, size, Format, installation_method, space, construction, image ]\n",
    "# print(List)\n",
    "with open('sample.csv', 'a', encoding='utf-8-sig', newline='') as f_object: \n",
    "    writer_object = writer(f_object) \n",
    "    writer_object.writerow(List) \n",
    "    f_object.close() \n",
    "time.sleep(1)\n"
   ]
  }
 ],
 "metadata": {
  "kernelspec": {
   "display_name": "Python 3",
   "language": "python",
   "name": "python3"
  },
  "language_info": {
   "codemirror_mode": {
    "name": "ipython",
    "version": 3
   },
   "file_extension": ".py",
   "mimetype": "text/x-python",
   "name": "python",
   "nbconvert_exporter": "python",
   "pygments_lexer": "ipython3",
   "version": "3.8.5"
  }
 },
 "nbformat": 4,
 "nbformat_minor": 4
}
