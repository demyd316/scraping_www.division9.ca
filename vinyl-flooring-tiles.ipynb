{
 "cells": [
  {
   "cell_type": "code",
   "execution_count": 15,
   "metadata": {},
   "outputs": [],
   "source": [
    "from selenium import webdriver\n",
    "from selenium.webdriver.chrome.options import Options\n",
    "from selenium.webdriver.common.action_chains import ActionChains\n",
    "from selenium.webdriver.support import expected_conditions as EC\n",
    "from selenium.webdriver.common.by import By\n",
    "from selenium.webdriver.support.ui import WebDriverWait\n",
    "from selenium.webdriver.common.keys import Keys\n",
    "from selenium.webdriver.remote.webelement import WebElement\n",
    "from openpyxl import Workbook\n",
    "from openpyxl import load_workbook\n",
    "from os.path import expanduser\n",
    "from os import path\n",
    "import os\n",
    "import csv\n",
    "import urllib.request\n",
    "import xlsxwriter\n",
    "import xlrd\n",
    "import string\n",
    "from openpyxl import load_workbook\n",
    "from csv import writer \n",
    "import logging\n",
    "import threading\n",
    "import time"
   ]
  },
  {
   "cell_type": "code",
   "execution_count": 2,
   "metadata": {},
   "outputs": [],
   "source": [
    "driver = webdriver.Chrome()\n",
    "url = \"https://www.division9.ca/en-ca/search?tgs=vinyl-flooring-tiles\"\n",
    "driver.get(url)\n"
   ]
  },
  {
   "cell_type": "code",
   "execution_count": 3,
   "metadata": {},
   "outputs": [],
   "source": [
    "products = driver.find_element_by_xpath('/html/body/main/div/div/div/div[2]/div/div[2]/div/div')\n",
    "items = products.find_elements_by_class_name('item-box')\n",
    "# print(items)\n",
    "product_url_list = []\n",
    "for item in items:\n",
    "    item_a_obj = item.find_element_by_tag_name('a')\n",
    "    product_url_list.append(item_a_obj.get_attribute('href'))"
   ]
  },
  {
   "cell_type": "code",
   "execution_count": 16,
   "metadata": {},
   "outputs": [],
   "source": [
    "# in case of tiles\n",
    "driver = webdriver.Chrome()\n",
    "url = \"https://www.savoia.com/en-ca/search\"\n",
    "driver.get(url)"
   ]
  },
  {
   "cell_type": "code",
   "execution_count": 17,
   "metadata": {},
   "outputs": [
    {
     "name": "stdout",
     "output_type": "stream",
     "text": [
      "50\n",
      "100\n",
      "150\n",
      "200\n",
      "250\n",
      "300\n",
      "350\n",
      "400\n",
      "450\n",
      "500\n",
      "550\n",
      "600\n",
      "650\n",
      "700\n",
      "750\n",
      "800\n",
      "850\n",
      "900\n"
     ]
    }
   ],
   "source": [
    "product_url_list = []\n",
    "i=0\n",
    "while True:\n",
    "    time.sleep(6)  \n",
    "    products = driver.find_element_by_xpath('/html/body/main/div/div/div/div[4]/div/div[2]/div/div')\n",
    "    items = products.find_elements_by_class_name('item-box')\n",
    "    # print(items)\n",
    "    \n",
    "    for item in items:\n",
    "        item_a_obj = item.find_element_by_tag_name('a')\n",
    "        product_url_list.append(item_a_obj.get_attribute('href'))\n",
    "    try:\n",
    "        next_btn = driver.find_element_by_class_name('fa-chevron-right')\n",
    "        next_btn.click()\n",
    "#         i = i+1\n",
    "\n",
    "        # time.sleep(5)\n",
    "    except:\n",
    "        break\n",
    "#     print(product_url_list)"
   ]
  },
  {
   "cell_type": "code",
   "execution_count": 19,
   "metadata": {},
   "outputs": [
    {
     "name": "stdout",
     "output_type": "stream",
     "text": [
      "https://www.savoia.com/en-ca/product/datauni-maximum-000-uniice-maximum\n"
     ]
    }
   ],
   "source": [
    "print(product_url_list[1])"
   ]
  },
  {
   "cell_type": "code",
   "execution_count": 36,
   "metadata": {},
   "outputs": [],
   "source": [
    "driver.get(\"https://www.savoia.com/en-ca/product/1x1-mosaic-filled--honed-2\")"
   ]
  },
  {
   "cell_type": "code",
   "execution_count": 53,
   "metadata": {},
   "outputs": [
    {
     "name": "stdout",
     "output_type": "stream",
     "text": [
      "GRANVILLE 12”X24”\n"
     ]
    }
   ],
   "source": [
    "# time.sleep(5) \n",
    "# product = driver.find_element_by_class_name('product')\n",
    "# name1 = products.find_elements_by_xpath('h1').text\n",
    "name = driver.find_element_by_xpath('/html/body/main/div/div/div/div[2]/div[1]/div[2]/h1').text\n",
    "print(name)"
   ]
  },
  {
   "cell_type": "code",
   "execution_count": 33,
   "metadata": {},
   "outputs": [],
   "source": [
    "div = driver.find_element_by_xpath('/html/body/main/div/div/div/div[2]/div[2]/div').text\n",
    "# print(div)"
   ]
  },
  {
   "cell_type": "code",
   "execution_count": 28,
   "metadata": {},
   "outputs": [
    {
     "name": "stdout",
     "output_type": "stream",
     "text": [
      "two table\n"
     ]
    }
   ],
   "source": [
    "div = driver.find_element_by_xpath('/html/body/main/div/div/div/div[2]/div[2]/div').text\n",
    "# print(div)\n",
    "x = div.find('Technical Specifications')\n",
    "if x!=-1:\n",
    "    print('two table')\n",
    "#     first_table_text = \n",
    "#     table_text =\n",
    "else:\n",
    "    print(\"one table\")\n",
    "#     table_text =\n",
    "#     table_xpath = '/html/body/main/div/div/div/div[2]/div[2]/div/table'"
   ]
  },
  {
   "cell_type": "code",
   "execution_count": 34,
   "metadata": {},
   "outputs": [],
   "source": [
    "name = driver.find_element_by_xpath('/html/body/main/div/div/div/div[2]/div[1]/div[2]/h1').text\n",
    "sku = driver.find_element_by_xpath('/html/body/main/div/div/div/div[2]/div[1]/div[2]/strong').text\n",
    "manufacturer = driver.find_element_by_xpath('/html/body/main/div/div/div/div[2]/div[1]/div[2]/div[1]/a').text\n",
    "description = driver.find_element_by_xpath('/html/body/main/div/div/div/div[2]/div[1]/div[2]/div[2]').text\n",
    "\n",
    "Bisque=Construction=Variation=Thickness=Warranty=Absorption_by_Weight=Density=Compressive_Strength=MOHS=Flexural_Strength=\"\"\n",
    "Shade=Colour=Usage=Size=Shape=space=construction=Finish=Collection=\"\"\n",
    "div = driver.find_element_by_xpath('/html/body/main/div/div/div/div[2]/div[2]/div').text\n",
    "# print(div)\n",
    "x = div.find('Technical Specifications')\n",
    "if x!=-1:\n",
    "    first_table_text = driver.find_element_by_xpath('/html/body/main/div/div/div/div[2]/div[2]/div/table[1]').text\n",
    "    first_table_trs = first_table_text.splitlines()\n",
    "    for first_tr in first_table_trs:\n",
    "        \n",
    "        first_temp1=first_tr.find(\"Bisque\")\n",
    "        if first_temp1!=-1:        \n",
    "            Bisque = first_tr.rsplit(\"Bisque \")[1]\n",
    "\n",
    "        first_temp2=first_tr.find(\"Construction\")\n",
    "        if first_temp2!=-1:\n",
    "            Construction = first_tr.rsplit(\"Construction \")[1]\n",
    "\n",
    "        first_temp3=first_tr.find(\"Variation\")\n",
    "        if first_temp3!=-1:\n",
    "            Variation = first_tr.rsplit(\"Variation \")[1]\n",
    "\n",
    "        first_temp4=first_tr.find(\"Thickness\")\n",
    "        if first_temp4!=-1:\n",
    "            Thickness = first_tr.rsplit(\"Thickness \")[1]\n",
    "\n",
    "        first_temp5=first_tr.find(\"Warranty\")\n",
    "        if first_temp5!=-1:\n",
    "            Warranty = first_tr.rsplit(\"Warranty \")[1]\n",
    "\n",
    "        first_temp6=first_tr.find(\"Absorption by Weight\")\n",
    "        if first_temp6!=-1:\n",
    "            Absorption_by_Weight = first_tr.rsplit(\"Absorption by Weight \")[1]\n",
    "\n",
    "        first_temp7=first_tr.find(\"Density\")\n",
    "        if first_temp7!=-1:\n",
    "            Density = first_tr.rsplit(\"Density \")[1]\n",
    "            \n",
    "        first_temp8=first_tr.find(\"Compressive Strength\")\n",
    "        if first_temp8!=-1:\n",
    "            Compressive_Strength = first_tr.rsplit(\"Compressive Strength \")[1]\n",
    "            \n",
    "        first_temp9=first_tr.find(\"MOHS\")\n",
    "        if first_temp9!=-1:\n",
    "            MOHS = first_tr.rsplit(\"MOHS \")[1]\n",
    "            \n",
    "        first_temp10=first_tr.find(\"Flexural Strength\")\n",
    "        if first_temp10!=-1:\n",
    "            Flexural_Strength = first_tr.rsplit(\"Flexural Strength \")[1]\n",
    "    \n",
    "    table_text = driver.find_element_by_xpath('/html/body/main/div/div/div/div[2]/div[2]/div/table[2]').text\n",
    "    table_trs = table_text.splitlines()\n",
    "    for tr in table_trs:\n",
    "        \n",
    "        temp0=tr.find(\"Shade\")\n",
    "        if temp0!=-1:\n",
    "            Shade = tr.rsplit(\"Shade \")[1]        \n",
    "\n",
    "        temp1=tr.find(\"Colour\")\n",
    "        if temp1!=-1:\n",
    "            Colour = tr.rsplit(\"Colour \")[1]\n",
    "\n",
    "        temp2=tr.find(\"Usage\")\n",
    "        if temp2!=-1:\n",
    "            Usage = tr.rsplit(\"Usage \")[1]\n",
    "\n",
    "        temp3=tr.find(\"Size\")\n",
    "        if temp3!=-1:\n",
    "            Size = tr.rsplit(\"Size \")[1]\n",
    "\n",
    "        temp4=tr.find(\"Shape\")\n",
    "        if temp4!=-1:\n",
    "            Shape = tr.rsplit(\"Shape \")[1]\n",
    "\n",
    "        temp5=tr.find(\"Space\")\n",
    "        if temp5!=-1:\n",
    "            Space = tr.rsplit(\"Space \")[1]\n",
    "            \n",
    "        temp6=tr.find(\"Construction\")\n",
    "        if temp6!=-1:\n",
    "            installation_method = tr.rsplit(\"Construction \")[1]\n",
    "\n",
    "        temp7=tr.find(\"Gloss Level/Finish\")\n",
    "        if temp7!=-1:\n",
    "            Finish = tr.rsplit(\"Gloss Level/Finish \")[1]\n",
    "            \n",
    "        temp8=tr.find(\"Collection\")\n",
    "        if temp8!=-1:\n",
    "            Collection = tr.rsplit(\"Collection \")[1]\n",
    "else:\n",
    "    \n",
    "    table_text = driver.find_element_by_xpath('/html/body/main/div/div/div/div[2]/div[2]/div/table').text\n",
    "    table_trs = table_text.splitlines()\n",
    "    for tr in table_trs:\n",
    "        \n",
    "        temp0=tr.find(\"Shade\")\n",
    "        if temp0!=-1:\n",
    "            Shade = tr.rsplit(\"Shade \")[1]        \n",
    "\n",
    "        temp1=tr.find(\"Colour\")\n",
    "        if temp1!=-1:\n",
    "            Colour = tr.rsplit(\"Colour \")[1]\n",
    "\n",
    "        temp2=tr.find(\"Usage\")\n",
    "        if temp2!=-1:\n",
    "            Usage = tr.rsplit(\"Usage \")[1]\n",
    "\n",
    "        temp3=tr.find(\"Size\")\n",
    "        if temp3!=-1:\n",
    "            Size = tr.rsplit(\"Size \")[1]\n",
    "\n",
    "        temp4=tr.find(\"Shape\")\n",
    "        if temp4!=-1:\n",
    "            Shape = tr.rsplit(\"Shape \")[1]\n",
    "\n",
    "        temp5=tr.find(\"Space\")\n",
    "        if temp5!=-1:\n",
    "            Space = tr.rsplit(\"Space \")[1]\n",
    "            \n",
    "        temp6=tr.find(\"Construction\")\n",
    "        if temp6!=-1:\n",
    "            installation_method = tr.rsplit(\"Construction \")[1]\n",
    "\n",
    "        temp7=tr.find(\"Gloss Level/Finish\")\n",
    "        if temp7!=-1:\n",
    "            Finish = tr.rsplit(\"Gloss Level/Finish \")[1]\n",
    "            \n",
    "        temp8=tr.find(\"Collection\")\n",
    "        if temp8!=-1:\n",
    "            Collection = tr.rsplit(\"Collection \")[1]\n",
    "\n",
    "\n",
    "image = driver.find_element_by_xpath('/html/body/main/div/div/div/div[2]/div[1]/div[1]/div[1]/a/img').get_attribute('src')\n",
    "\n",
    "# print(colour)\n"
   ]
  },
  {
   "cell_type": "code",
   "execution_count": 35,
   "metadata": {},
   "outputs": [
    {
     "name": "stdout",
     "output_type": "stream",
     "text": [
      "['SHELLBLUE', 'TCG1224013', 'Shellstone', 'Stone looks suitable for any style of design. Ideally suited for commercial and residential settings such as hotel lobbies, restaurants, shopping malls, airports, schools, and residential floors and walls. Measurements are metric unless otherwise noted. Size(s): 60X30 (24\"X12\") Finish(es): Honed', '', '', '', '', '', '', '', '', '', '', 'Medium', 'Grey', '', '12x24', '', '', '', 'Honed', 'Shellstone', 'https://www.shnierflooring.ca/catalog/items/600x600/TCG1224013.jpg']\n"
     ]
    }
   ],
   "source": [
    "List = [name, sku, manufacturer, description,Bisque,Construction,Variation,Thickness,Warranty,Absorption_by_Weight,Density,Compressive_Strength,MOHS,Flexural_Strength,\n",
    "Shade,Colour,Usage,Size,Shape,space,construction,Finish,Collection, image ]\n",
    "print(List)\n",
    "# with open('sample.csv', 'a', encoding='utf-8-sig', newline='') as f_object: \n",
    "#     writer_object = writer(f_object) \n",
    "#     writer_object.writerow(List) \n",
    "#     f_object.close() \n",
    "# time.sleep(1)\n"
   ]
  }
 ],
 "metadata": {
  "kernelspec": {
   "display_name": "Python 3",
   "language": "python",
   "name": "python3"
  },
  "language_info": {
   "codemirror_mode": {
    "name": "ipython",
    "version": 3
   },
   "file_extension": ".py",
   "mimetype": "text/x-python",
   "name": "python",
   "nbconvert_exporter": "python",
   "pygments_lexer": "ipython3",
   "version": "3.8.5"
  }
 },
 "nbformat": 4,
 "nbformat_minor": 4
}
